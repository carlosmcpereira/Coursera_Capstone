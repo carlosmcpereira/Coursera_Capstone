{
 "cells": [
  {
   "cell_type": "markdown",
   "metadata": {},
   "source": [
    "# Applied Data Science Capstone - Week 3 Assignment"
   ]
  },
  {
   "cell_type": "markdown",
   "metadata": {},
   "source": [
    "## - Import packages"
   ]
  },
  {
   "cell_type": "code",
   "execution_count": null,
   "metadata": {},
   "outputs": [],
   "source": [
    "import pandas as pd"
   ]
  },
  {
   "cell_type": "markdown",
   "metadata": {},
   "source": [
    "## - Read neighborhoods in Toronto from wiki and store it as a pandas dataframe "
   ]
  },
  {
   "cell_type": "code",
   "execution_count": 29,
   "metadata": {},
   "outputs": [],
   "source": [
    "df_toronto = pd.read_html('https://en.wikipedia.org/wiki/List_of_postal_codes_of_Canada:_M')[0]"
   ]
  },
  {
   "cell_type": "markdown",
   "metadata": {},
   "source": [
    "## - Data cleasing by ignoring cells with borough = Not assigned"
   ]
  },
  {
   "cell_type": "code",
   "execution_count": 30,
   "metadata": {},
   "outputs": [
    {
     "name": "stdout",
     "output_type": "stream",
     "text": [
      "Before cleansing: 180\n",
      "After cleansing: 103\n"
     ]
    }
   ],
   "source": [
    "print('Before cleansing: ' + str(df_toronto.shape[0]))\n",
    "df_toronto = df_toronto.loc[df_toronto['Borough'] != 'Not assigned']\n",
    "print('After cleansing: ' + str(df_toronto.shape[0]))"
   ]
  },
  {
   "cell_type": "markdown",
   "metadata": {},
   "source": [
    "## - Check any postal codes appearing more than once"
   ]
  },
  {
   "cell_type": "code",
   "execution_count": 33,
   "metadata": {},
   "outputs": [
    {
     "name": "stdout",
     "output_type": "stream",
     "text": [
      "No duplicated postal codes were found.\n"
     ]
    }
   ],
   "source": [
    "df_postalcode =df_toronto['Postal Code'].value_counts().rename_axis('unique_values').reset_index(name='Count')\n",
    "df_postalcode.columns = ['Postal Code','Count']\n",
    "df_postalcode.sort_values(by=['Count'], inplace=True, ascending=False)\n",
    "\n",
    "if len(df_postalcode.loc[df_neighborhoods['Count'] == 2]) == 0:\n",
    "    print('No duplicated postal codes were found.')\n",
    "    \n",
    "#df_postalcode"
   ]
  },
  {
   "cell_type": "markdown",
   "metadata": {},
   "source": [
    "As shown above, I did not see any postal codes appearing more than once."
   ]
  },
  {
   "cell_type": "markdown",
   "metadata": {},
   "source": [
    "## - If a cell has a borough but a Not assigned  neighborhood, then the neighborhood will be the same as the borough"
   ]
  },
  {
   "cell_type": "code",
   "execution_count": 34,
   "metadata": {},
   "outputs": [
    {
     "name": "stdout",
     "output_type": "stream",
     "text": [
      "No neighbourhoods with unassigned name.\n"
     ]
    }
   ],
   "source": [
    "if len(df_toronto.loc[df_toronto['Neighbourhood'] == 'Not assigned']) == 0:\n",
    "    print('No neighbourhoods with unassigned name.')"
   ]
  },
  {
   "cell_type": "markdown",
   "metadata": {},
   "source": [
    "## - df_toronto is the final result for this assignment, use the .shape method to print the number of rows as required by the assignment"
   ]
  },
  {
   "cell_type": "code",
   "execution_count": 35,
   "metadata": {},
   "outputs": [
    {
     "data": {
      "text/plain": [
       "(103, 3)"
      ]
     },
     "execution_count": 35,
     "metadata": {},
     "output_type": "execute_result"
    }
   ],
   "source": [
    "df_toronto.shape"
   ]
  },
  {
   "cell_type": "code",
   "execution_count": null,
   "metadata": {},
   "outputs": [],
   "source": []
  }
 ],
 "metadata": {
  "kernelspec": {
   "display_name": "Python 3.7",
   "language": "python",
   "name": "python3"
  },
  "language_info": {
   "codemirror_mode": {
    "name": "ipython",
    "version": 3
   },
   "file_extension": ".py",
   "mimetype": "text/x-python",
   "name": "python",
   "nbconvert_exporter": "python",
   "pygments_lexer": "ipython3",
   "version": "3.7.9"
  }
 },
 "nbformat": 4,
 "nbformat_minor": 1
}
